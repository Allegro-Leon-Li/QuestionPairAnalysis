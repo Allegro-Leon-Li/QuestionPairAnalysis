{
 "cells": [
  {
   "cell_type": "code",
   "execution_count": 6,
   "metadata": {},
   "outputs": [],
   "source": [
    "import pandas as pd\n",
    "import numpy as np\n",
    "from nltk.tokenize import word_tokenize\n",
    "from nltk.stem.porter import PorterStemmer\n",
    "from nltk.corpus import stopwords"
   ]
  },
  {
   "cell_type": "code",
   "execution_count": 2,
   "metadata": {},
   "outputs": [],
   "source": [
    "df = pd.read_csv('train.csv')\n",
    "df['question2'] = df['question2'].astype(str)\n",
    "df['question1'] = df['question1'].astype(str)"
   ]
  },
  {
   "cell_type": "code",
   "execution_count": 38,
   "metadata": {},
   "outputs": [],
   "source": [
    "\n",
    "\n",
    "def stemming(row):\n",
    "    stops = set(stopwords.words(\"english\"))\n",
    "    tokens = word_tokenize(row)\n",
    "    porter = PorterStemmer()\n",
    "    stemmed = [porter.stem(word) for word in tokens if word not in stops]\n",
    "    return stemmed\n",
    "\n",
    "def tfidf_tokenizer(row):\n",
    "    tokens = word_tokenize(row)\n",
    "    porter = PorterStemmer()\n",
    "    stemmed = [porter.stem(word) for word in tokens]\n",
    "    return stemmed"
   ]
  },
  {
   "cell_type": "code",
   "execution_count": 34,
   "metadata": {},
   "outputs": [],
   "source": [
    "df['q1_stemmed'] = df.question1.apply(stemming)\n",
    "df['q2_stemmed'] = df.question2.apply(stemming)"
   ]
  },
  {
   "cell_type": "code",
   "execution_count": 45,
   "metadata": {},
   "outputs": [
    {
     "data": {
      "text/html": [
       "<div>\n",
       "<style scoped>\n",
       "    .dataframe tbody tr th:only-of-type {\n",
       "        vertical-align: middle;\n",
       "    }\n",
       "\n",
       "    .dataframe tbody tr th {\n",
       "        vertical-align: top;\n",
       "    }\n",
       "\n",
       "    .dataframe thead th {\n",
       "        text-align: right;\n",
       "    }\n",
       "</style>\n",
       "<table border=\"1\" class=\"dataframe\">\n",
       "  <thead>\n",
       "    <tr style=\"text-align: right;\">\n",
       "      <th></th>\n",
       "      <th>id</th>\n",
       "      <th>qid1</th>\n",
       "      <th>qid2</th>\n",
       "      <th>question1</th>\n",
       "      <th>question2</th>\n",
       "      <th>is_duplicate</th>\n",
       "      <th>q1_stemmed</th>\n",
       "      <th>q2_stemmed</th>\n",
       "      <th>tfidf_dist</th>\n",
       "    </tr>\n",
       "  </thead>\n",
       "  <tbody>\n",
       "    <tr>\n",
       "      <th>0</th>\n",
       "      <td>0</td>\n",
       "      <td>1</td>\n",
       "      <td>2</td>\n",
       "      <td>What is the step by step guide to invest in sh...</td>\n",
       "      <td>What is the step by step guide to invest in sh...</td>\n",
       "      <td>0</td>\n",
       "      <td>[what, step, step, guid, invest, share, market...</td>\n",
       "      <td>[what, step, step, guid, invest, share, market...</td>\n",
       "      <td>0.094450</td>\n",
       "    </tr>\n",
       "    <tr>\n",
       "      <th>1</th>\n",
       "      <td>1</td>\n",
       "      <td>3</td>\n",
       "      <td>4</td>\n",
       "      <td>What is the story of Kohinoor (Koh-i-Noor) Dia...</td>\n",
       "      <td>What would happen if the Indian government sto...</td>\n",
       "      <td>0</td>\n",
       "      <td>[what, stori, kohinoor, (, koh-i-noor, ), diam...</td>\n",
       "      <td>[what, would, happen, indian, govern, stole, k...</td>\n",
       "      <td>0.430166</td>\n",
       "    </tr>\n",
       "    <tr>\n",
       "      <th>2</th>\n",
       "      <td>2</td>\n",
       "      <td>5</td>\n",
       "      <td>6</td>\n",
       "      <td>How can I increase the speed of my internet co...</td>\n",
       "      <td>How can Internet speed be increased by hacking...</td>\n",
       "      <td>0</td>\n",
       "      <td>[how, I, increas, speed, internet, connect, us...</td>\n",
       "      <td>[how, internet, speed, increas, hack, dn, ?]</td>\n",
       "      <td>0.549732</td>\n",
       "    </tr>\n",
       "    <tr>\n",
       "      <th>3</th>\n",
       "      <td>3</td>\n",
       "      <td>7</td>\n",
       "      <td>8</td>\n",
       "      <td>Why am I mentally very lonely? How can I solve...</td>\n",
       "      <td>Find the remainder when [math]23^{24}[/math] i...</td>\n",
       "      <td>0</td>\n",
       "      <td>[whi, I, mental, lone, ?, how, I, solv, ?]</td>\n",
       "      <td>[find, remaind, [, math, ], 23^, {, 24, }, [, ...</td>\n",
       "      <td>0.908700</td>\n",
       "    </tr>\n",
       "    <tr>\n",
       "      <th>4</th>\n",
       "      <td>4</td>\n",
       "      <td>9</td>\n",
       "      <td>10</td>\n",
       "      <td>Which one dissolve in water quikly sugar, salt...</td>\n",
       "      <td>Which fish would survive in salt water?</td>\n",
       "      <td>0</td>\n",
       "      <td>[which, one, dissolv, water, quikli, sugar, ,,...</td>\n",
       "      <td>[which, fish, would, surviv, salt, water, ?]</td>\n",
       "      <td>0.771173</td>\n",
       "    </tr>\n",
       "  </tbody>\n",
       "</table>\n",
       "</div>"
      ],
      "text/plain": [
       "   id  qid1  qid2                                          question1  \\\n",
       "0   0     1     2  What is the step by step guide to invest in sh...   \n",
       "1   1     3     4  What is the story of Kohinoor (Koh-i-Noor) Dia...   \n",
       "2   2     5     6  How can I increase the speed of my internet co...   \n",
       "3   3     7     8  Why am I mentally very lonely? How can I solve...   \n",
       "4   4     9    10  Which one dissolve in water quikly sugar, salt...   \n",
       "\n",
       "                                           question2  is_duplicate  \\\n",
       "0  What is the step by step guide to invest in sh...             0   \n",
       "1  What would happen if the Indian government sto...             0   \n",
       "2  How can Internet speed be increased by hacking...             0   \n",
       "3  Find the remainder when [math]23^{24}[/math] i...             0   \n",
       "4            Which fish would survive in salt water?             0   \n",
       "\n",
       "                                          q1_stemmed  \\\n",
       "0  [what, step, step, guid, invest, share, market...   \n",
       "1  [what, stori, kohinoor, (, koh-i-noor, ), diam...   \n",
       "2  [how, I, increas, speed, internet, connect, us...   \n",
       "3         [whi, I, mental, lone, ?, how, I, solv, ?]   \n",
       "4  [which, one, dissolv, water, quikli, sugar, ,,...   \n",
       "\n",
       "                                          q2_stemmed  tfidf_dist  \n",
       "0  [what, step, step, guid, invest, share, market...    0.094450  \n",
       "1  [what, would, happen, indian, govern, stole, k...    0.430166  \n",
       "2       [how, internet, speed, increas, hack, dn, ?]    0.549732  \n",
       "3  [find, remaind, [, math, ], 23^, {, 24, }, [, ...    0.908700  \n",
       "4       [which, fish, would, surviv, salt, water, ?]    0.771173  "
      ]
     },
     "execution_count": 45,
     "metadata": {},
     "output_type": "execute_result"
    }
   ],
   "source": [
    "df.head()"
   ]
  },
  {
   "cell_type": "code",
   "execution_count": 44,
   "metadata": {},
   "outputs": [
    {
     "name": "stderr",
     "output_type": "stream",
     "text": [
      "/home/leonardoli525/anaconda3/lib/python3.5/site-packages/scipy/spatial/distance.py:644: RuntimeWarning: invalid value encountered in double_scalars\n",
      "  dist = 1.0 - uv / np.sqrt(uu * vv)\n"
     ]
    }
   ],
   "source": [
    "from scipy.spatial.distance import cosine\n",
    "from sklearn.feature_extraction.text import TfidfVectorizer\n",
    "def tfidf_dis(row):\n",
    "    try:\n",
    "        vectorizer = TfidfVectorizer(tokenizer=tfidf_tokenizer, stop_words='english')\n",
    "        vec = vectorizer.fit_transform([row['question1'], row['question2']])\n",
    "        vec = vec.todense()\n",
    "        return cosine(vec[0], vec[1])\n",
    "    except:\n",
    "        return 1.0\n",
    "    \n",
    "# def tfidf_dis(row):\n",
    "#     vectorizer = TfidfVectorizer(tokenizer=tfidf_tokenizer, stop_words='english')\n",
    "#     vec = vectorizer.fit_transform([row['question1'], row['question2']])\n",
    "#     vec = vec.todense()\n",
    "#     return cosine(vec[0], vec[1])\n",
    "\n",
    "df['tfidf_dist'] = df.apply(tfidf_dis, axis=1)"
   ]
  },
  {
   "cell_type": "code",
   "execution_count": 46,
   "metadata": {},
   "outputs": [],
   "source": [
    "df.to_csv('clean.csv')"
   ]
  }
 ],
 "metadata": {
  "kernelspec": {
   "display_name": "Python 3",
   "language": "python",
   "name": "python3"
  },
  "language_info": {
   "codemirror_mode": {
    "name": "ipython",
    "version": 3
   },
   "file_extension": ".py",
   "mimetype": "text/x-python",
   "name": "python",
   "nbconvert_exporter": "python",
   "pygments_lexer": "ipython3",
   "version": "3.5.4"
  }
 },
 "nbformat": 4,
 "nbformat_minor": 2
}
